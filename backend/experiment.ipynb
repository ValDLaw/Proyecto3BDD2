{
 "cells": [
  {
   "cell_type": "code",
   "execution_count": 9,
   "metadata": {},
   "outputs": [],
   "source": [
    "import face_recognition\n",
    "from extraccion_de_caracteristicas import load_json\n",
    "from knn_rtree import *\n",
    "import time\n",
    "\n",
    "dataset = load_json()"
   ]
  },
  {
   "cell_type": "code",
   "execution_count": 37,
   "metadata": {},
   "outputs": [],
   "source": [
    "from knn_secuencial import *"
   ]
  },
  {
   "cell_type": "code",
   "execution_count": 34,
   "metadata": {},
   "outputs": [],
   "source": [
    "N_values = [100,200,400,800,1600,3200,6400,12800]\n",
    "k = 8   # fijo\n",
    "image_path = \"test/valentonto.jpeg\"\n",
    "query_image = face_recognition.load_image_file(image_path) \n",
    "faces_encoding = face_recognition.face_encodings(query_image)"
   ]
  },
  {
   "cell_type": "code",
   "execution_count": 39,
   "metadata": {},
   "outputs": [
    {
     "name": "stdout",
     "output_type": "stream",
     "text": [
      "KNN-Secuencial PQ TEST\n",
      "N = 100\n",
      "['/Users/ValDLaw/Documents/GitHub/2023-1/BDD2/Proyecto3/Proyecto3BDD2/backend/../images/Claudia_Pechstein/Claudia_Pechstein_0003.jpg', '/Users/ValDLaw/Documents/GitHub/2023-1/BDD2/Proyecto3/Proyecto3BDD2/backend/../images/Mike_Smith/Mike_Smith_0001.jpg', '/Users/ValDLaw/Documents/GitHub/2023-1/BDD2/Proyecto3/Proyecto3BDD2/backend/../images/Gro_Harlem_Brundtland/Gro_Harlem_Brundtland_0001.jpg', '/Users/ValDLaw/Documents/GitHub/2023-1/BDD2/Proyecto3/Proyecto3BDD2/backend/../images/Paul_ONeill/Paul_ONeill_0008.jpg', '/Users/ValDLaw/Documents/GitHub/2023-1/BDD2/Proyecto3/Proyecto3BDD2/backend/../images/Ranil_Wickremasinghe/Ranil_Wickremasinghe_0003.jpg', '/Users/ValDLaw/Documents/GitHub/2023-1/BDD2/Proyecto3/Proyecto3BDD2/backend/../images/German_Khan/German_Khan_0001.jpg', '/Users/ValDLaw/Documents/GitHub/2023-1/BDD2/Proyecto3/Proyecto3BDD2/backend/../images/Angel_Maza/Angel_Maza_0001.jpg', '/Users/ValDLaw/Documents/GitHub/2023-1/BDD2/Proyecto3/Proyecto3BDD2/backend/../images/Jimmy_Iovine/Jimmy_Iovine_0001.jpg']\n",
      "0.0007829666137695312\n",
      "N = 200\n",
      "['/Users/ValDLaw/Documents/GitHub/2023-1/BDD2/Proyecto3/Proyecto3BDD2/backend/../images/Jeong_Se-hyun/Jeong_Se-hyun_0004.jpg', '/Users/ValDLaw/Documents/GitHub/2023-1/BDD2/Proyecto3/Proyecto3BDD2/backend/../images/Jesse_Jackson/Jesse_Jackson_0001.jpg', '/Users/ValDLaw/Documents/GitHub/2023-1/BDD2/Proyecto3/Proyecto3BDD2/backend/../images/Ainsworth_Dyer/Ainsworth_Dyer_0001.jpg', '/Users/ValDLaw/Documents/GitHub/2023-1/BDD2/Proyecto3/Proyecto3BDD2/backend/../images/Liza_Minnelli/Liza_Minnelli_0002.jpg', '/Users/ValDLaw/Documents/GitHub/2023-1/BDD2/Proyecto3/Proyecto3BDD2/backend/../images/Jeong_Se-hyun/Jeong_Se-hyun_0005.jpg', '/Users/ValDLaw/Documents/GitHub/2023-1/BDD2/Proyecto3/Proyecto3BDD2/backend/../images/Vin_Diesel/Vin_Diesel_0001.jpg', '/Users/ValDLaw/Documents/GitHub/2023-1/BDD2/Proyecto3/Proyecto3BDD2/backend/../images/Wilbert_Elki_Meza_Majino/Wilbert_Elki_Meza_Majino_0001.jpg', '/Users/ValDLaw/Documents/GitHub/2023-1/BDD2/Proyecto3/Proyecto3BDD2/backend/../images/Iban_Mayo/Iban_Mayo_0001.jpg']\n",
      "0.0014641284942626953\n",
      "N = 400\n",
      "['/Users/ValDLaw/Documents/GitHub/2023-1/BDD2/Proyecto3/Proyecto3BDD2/backend/../images/Din_Samsudin/Din_Samsudin_0001.jpg', '/Users/ValDLaw/Documents/GitHub/2023-1/BDD2/Proyecto3/Proyecto3BDD2/backend/../images/Jeong_Se-hyun/Jeong_Se-hyun_0004.jpg', '/Users/ValDLaw/Documents/GitHub/2023-1/BDD2/Proyecto3/Proyecto3BDD2/backend/../images/Fazal-ur-Rehman/Fazal-ur-Rehman_0001.jpg', '/Users/ValDLaw/Documents/GitHub/2023-1/BDD2/Proyecto3/Proyecto3BDD2/backend/../images/Billy_Tibbets/Billy_Tibbets_0001.jpg', '/Users/ValDLaw/Documents/GitHub/2023-1/BDD2/Proyecto3/Proyecto3BDD2/backend/../images/Din_Samsudin/Din_Samsudin_0001.jpg', '/Users/ValDLaw/Documents/GitHub/2023-1/BDD2/Proyecto3/Proyecto3BDD2/backend/../images/Pat_Burns/Pat_Burns_0002.jpg', '/Users/ValDLaw/Documents/GitHub/2023-1/BDD2/Proyecto3/Proyecto3BDD2/backend/../images/Jesse_Jackson/Jesse_Jackson_0001.jpg', '/Users/ValDLaw/Documents/GitHub/2023-1/BDD2/Proyecto3/Proyecto3BDD2/backend/../images/Peter_Care/Peter_Care_0001.jpg']\n",
      "0.0035409927368164062\n",
      "N = 800\n",
      "['/Users/ValDLaw/Documents/GitHub/2023-1/BDD2/Proyecto3/Proyecto3BDD2/backend/../images/Bernardo_Segura/Bernardo_Segura_0002.jpg', '/Users/ValDLaw/Documents/GitHub/2023-1/BDD2/Proyecto3/Proyecto3BDD2/backend/../images/Sanjay_Gupta/Sanjay_Gupta_0001.jpg', '/Users/ValDLaw/Documents/GitHub/2023-1/BDD2/Proyecto3/Proyecto3BDD2/backend/../images/Miguel_Estrada/Miguel_Estrada_0001.jpg', '/Users/ValDLaw/Documents/GitHub/2023-1/BDD2/Proyecto3/Proyecto3BDD2/backend/../images/Aung_San_Suu_Kyi/Aung_San_Suu_Kyi_0001.jpg', '/Users/ValDLaw/Documents/GitHub/2023-1/BDD2/Proyecto3/Proyecto3BDD2/backend/../images/Andy_Roddick/Andy_Roddick_0014.jpg', '/Users/ValDLaw/Documents/GitHub/2023-1/BDD2/Proyecto3/Proyecto3BDD2/backend/../images/Naoto_Kan/Naoto_Kan_0002.jpg', '/Users/ValDLaw/Documents/GitHub/2023-1/BDD2/Proyecto3/Proyecto3BDD2/backend/../images/Din_Samsudin/Din_Samsudin_0001.jpg', '/Users/ValDLaw/Documents/GitHub/2023-1/BDD2/Proyecto3/Proyecto3BDD2/backend/../images/Jeong_Se-hyun/Jeong_Se-hyun_0004.jpg']\n",
      "0.006775856018066406\n",
      "N = 1600\n",
      "['/Users/ValDLaw/Documents/GitHub/2023-1/BDD2/Proyecto3/Proyecto3BDD2/backend/../images/Bernardo_Segura/Bernardo_Segura_0002.jpg', '/Users/ValDLaw/Documents/GitHub/2023-1/BDD2/Proyecto3/Proyecto3BDD2/backend/../images/Sanjay_Gupta/Sanjay_Gupta_0001.jpg', '/Users/ValDLaw/Documents/GitHub/2023-1/BDD2/Proyecto3/Proyecto3BDD2/backend/../images/Miguel_Estrada/Miguel_Estrada_0001.jpg', '/Users/ValDLaw/Documents/GitHub/2023-1/BDD2/Proyecto3/Proyecto3BDD2/backend/../images/Aung_San_Suu_Kyi/Aung_San_Suu_Kyi_0001.jpg', '/Users/ValDLaw/Documents/GitHub/2023-1/BDD2/Proyecto3/Proyecto3BDD2/backend/../images/Andy_Roddick/Andy_Roddick_0014.jpg', '/Users/ValDLaw/Documents/GitHub/2023-1/BDD2/Proyecto3/Proyecto3BDD2/backend/../images/Lynn_Abraham/Lynn_Abraham_0002.jpg', '/Users/ValDLaw/Documents/GitHub/2023-1/BDD2/Proyecto3/Proyecto3BDD2/backend/../images/Naoto_Kan/Naoto_Kan_0002.jpg', '/Users/ValDLaw/Documents/GitHub/2023-1/BDD2/Proyecto3/Proyecto3BDD2/backend/../images/Ricky_Quick/Ricky_Quick_0001.jpg']\n",
      "0.011954784393310547\n",
      "N = 3200\n",
      "['/Users/ValDLaw/Documents/GitHub/2023-1/BDD2/Proyecto3/Proyecto3BDD2/backend/../images/Bernardo_Segura/Bernardo_Segura_0002.jpg', '/Users/ValDLaw/Documents/GitHub/2023-1/BDD2/Proyecto3/Proyecto3BDD2/backend/../images/Sanjay_Gupta/Sanjay_Gupta_0001.jpg', '/Users/ValDLaw/Documents/GitHub/2023-1/BDD2/Proyecto3/Proyecto3BDD2/backend/../images/Miguel_Estrada/Miguel_Estrada_0001.jpg', '/Users/ValDLaw/Documents/GitHub/2023-1/BDD2/Proyecto3/Proyecto3BDD2/backend/../images/Aung_San_Suu_Kyi/Aung_San_Suu_Kyi_0001.jpg', '/Users/ValDLaw/Documents/GitHub/2023-1/BDD2/Proyecto3/Proyecto3BDD2/backend/../images/Andy_Roddick/Andy_Roddick_0014.jpg', '/Users/ValDLaw/Documents/GitHub/2023-1/BDD2/Proyecto3/Proyecto3BDD2/backend/../images/Igor_Ivanov/Igor_Ivanov_0020.jpg', '/Users/ValDLaw/Documents/GitHub/2023-1/BDD2/Proyecto3/Proyecto3BDD2/backend/../images/Igor_Ivanov/Igor_Ivanov_0017.jpg', '/Users/ValDLaw/Documents/GitHub/2023-1/BDD2/Proyecto3/Proyecto3BDD2/backend/../images/Lynn_Abraham/Lynn_Abraham_0002.jpg']\n",
      "0.02157902717590332\n",
      "N = 6400\n",
      "['/Users/ValDLaw/Documents/GitHub/2023-1/BDD2/Proyecto3/Proyecto3BDD2/backend/../images/Bernardo_Segura/Bernardo_Segura_0002.jpg', '/Users/ValDLaw/Documents/GitHub/2023-1/BDD2/Proyecto3/Proyecto3BDD2/backend/../images/Isabel_Orellana/Isabel_Orellana_0001.jpg', '/Users/ValDLaw/Documents/GitHub/2023-1/BDD2/Proyecto3/Proyecto3BDD2/backend/../images/Guillermo_Canas/Guillermo_Canas_0001.jpg', '/Users/ValDLaw/Documents/GitHub/2023-1/BDD2/Proyecto3/Proyecto3BDD2/backend/../images/Bob_Geldof/Bob_Geldof_0001.jpg', '/Users/ValDLaw/Documents/GitHub/2023-1/BDD2/Proyecto3/Proyecto3BDD2/backend/../images/Nestor_Kirchner/Nestor_Kirchner_0005.jpg', '/Users/ValDLaw/Documents/GitHub/2023-1/BDD2/Proyecto3/Proyecto3BDD2/backend/../images/Tony_Clement/Tony_Clement_0001.jpg', '/Users/ValDLaw/Documents/GitHub/2023-1/BDD2/Proyecto3/Proyecto3BDD2/backend/../images/Sanjay_Gupta/Sanjay_Gupta_0001.jpg', '/Users/ValDLaw/Documents/GitHub/2023-1/BDD2/Proyecto3/Proyecto3BDD2/backend/../images/Nathan_Smith/Nathan_Smith_0001.jpg']\n",
      "0.03880596160888672\n",
      "N = 12800\n",
      "['/Users/ValDLaw/Documents/GitHub/2023-1/BDD2/Proyecto3/Proyecto3BDD2/backend/../images/Bernardo_Segura/Bernardo_Segura_0002.jpg', '/Users/ValDLaw/Documents/GitHub/2023-1/BDD2/Proyecto3/Proyecto3BDD2/backend/../images/Isabel_Orellana/Isabel_Orellana_0001.jpg', '/Users/ValDLaw/Documents/GitHub/2023-1/BDD2/Proyecto3/Proyecto3BDD2/backend/../images/Guillermo_Canas/Guillermo_Canas_0001.jpg', '/Users/ValDLaw/Documents/GitHub/2023-1/BDD2/Proyecto3/Proyecto3BDD2/backend/../images/Silvan_Shalom/Silvan_Shalom_0002.jpg', '/Users/ValDLaw/Documents/GitHub/2023-1/BDD2/Proyecto3/Proyecto3BDD2/backend/../images/Masahiko_Nagasawa/Masahiko_Nagasawa_0001.jpg', '/Users/ValDLaw/Documents/GitHub/2023-1/BDD2/Proyecto3/Proyecto3BDD2/backend/../images/Tiger_Woods/Tiger_Woods_0019.jpg', '/Users/ValDLaw/Documents/GitHub/2023-1/BDD2/Proyecto3/Proyecto3BDD2/backend/../images/Bob_Geldof/Bob_Geldof_0001.jpg', '/Users/ValDLaw/Documents/GitHub/2023-1/BDD2/Proyecto3/Proyecto3BDD2/backend/../images/Nestor_Kirchner/Nestor_Kirchner_0005.jpg']\n",
      "0.07779407501220703\n"
     ]
    }
   ],
   "source": [
    "''' Testeando KNN-Secuencial PQ'''\n",
    "\n",
    "print(\"KNN-Secuencial PQ TEST\")\n",
    "for n in N_values:\n",
    "    print(\"N =\",n)\n",
    "    start_time = time.time()\n",
    "    knn_pq(faces_encoding, dataset[:n], k)\n",
    "    print(knn_pq(faces_encoding, dataset[:n], k))\n",
    "    end_time = time.time()\n",
    "    tiempo_ejecucion = end_time - start_time\n",
    "    print(tiempo_ejecucion)"
   ]
  },
  {
   "cell_type": "code",
   "execution_count": 24,
   "metadata": {},
   "outputs": [
    {
     "name": "stdout",
     "output_type": "stream",
     "text": [
      "KNN-Rtree TEST\n",
      "N = 100\n"
     ]
    },
    {
     "ename": "IndexError",
     "evalue": "list index out of range",
     "output_type": "error",
     "traceback": [
      "\u001b[0;31m---------------------------------------------------------------------------\u001b[0m",
      "\u001b[0;31mIndexError\u001b[0m                                Traceback (most recent call last)",
      "Cell \u001b[0;32mIn[24], line 6\u001b[0m\n\u001b[1;32m      4\u001b[0m \u001b[39mprint\u001b[39m(\u001b[39m\"\u001b[39m\u001b[39mN =\u001b[39m\u001b[39m\"\u001b[39m,n)\n\u001b[1;32m      5\u001b[0m start_time \u001b[39m=\u001b[39m time\u001b[39m.\u001b[39mtime()\n\u001b[0;32m----> 6\u001b[0m \u001b[39mprint\u001b[39m(knn_rtree(faces_encoding, k, dataset[:n]))\n\u001b[1;32m      7\u001b[0m end_time \u001b[39m=\u001b[39m time\u001b[39m.\u001b[39mtime()\n\u001b[1;32m      8\u001b[0m tiempo_ejecucion \u001b[39m=\u001b[39m end_time \u001b[39m-\u001b[39m start_time\n",
      "File \u001b[0;32m~/Documents/GitHub/2023-1/BDD2/Proyecto3/Proyecto3BDD2/backend/knn_rtree.py:31\u001b[0m, in \u001b[0;36mknn_rtree\u001b[0;34m(faces_encoding, k, dataset)\u001b[0m\n\u001b[1;32m     28\u001b[0m         c\u001b[39m+\u001b[39m\u001b[39m=\u001b[39m\u001b[39m1\u001b[39m\n\u001b[1;32m     30\u001b[0m \u001b[39m# Realizar la consulta kNN\u001b[39;00m\n\u001b[0;32m---> 31\u001b[0m query \u001b[39m=\u001b[39m \u001b[39mtuple\u001b[39m(faces_encoding[\u001b[39m0\u001b[39;49m])\n\u001b[1;32m     32\u001b[0m results \u001b[39m=\u001b[39m \u001b[39mlist\u001b[39m(idx\u001b[39m.\u001b[39mnearest(coordinates\u001b[39m=\u001b[39mquery, num_results\u001b[39m=\u001b[39mk))\n\u001b[1;32m     34\u001b[0m \u001b[39m# Obtener las rutas de los resultados\u001b[39;00m\n",
      "\u001b[0;31mIndexError\u001b[0m: list index out of range"
     ]
    }
   ],
   "source": [
    "''' Testeando KNN-RTree '''\n",
    "print(\"KNN-Rtree TEST\")\n",
    "for n in N_values:\n",
    "    print(\"N =\",n)\n",
    "    start_time = time.time()\n",
    "    print(knn_rtree(faces_encoding, k, dataset[:n]))\n",
    "    end_time = time.time()\n",
    "    tiempo_ejecucion = end_time - start_time\n",
    "    print(tiempo_ejecucion)"
   ]
  }
 ],
 "metadata": {
  "kernelspec": {
   "display_name": "Python 3",
   "language": "python",
   "name": "python3"
  },
  "language_info": {
   "codemirror_mode": {
    "name": "ipython",
    "version": 3
   },
   "file_extension": ".py",
   "mimetype": "text/x-python",
   "name": "python",
   "nbconvert_exporter": "python",
   "pygments_lexer": "ipython3",
   "version": "3.11.4"
  },
  "orig_nbformat": 4
 },
 "nbformat": 4,
 "nbformat_minor": 2
}
