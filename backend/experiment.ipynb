{
 "cells": [
  {
   "cell_type": "code",
   "execution_count": 9,
   "metadata": {},
   "outputs": [],
   "source": [
    "import face_recognition\n",
    "from extraccion_de_caracteristicas import load_json\n",
    "from knn_rtree import *\n",
    "import time\n",
    "\n",
    "dataset = load_json()"
   ]
  },
  {
   "cell_type": "code",
   "execution_count": null,
   "metadata": {},
   "outputs": [],
   "source": []
  },
  {
   "cell_type": "code",
   "execution_count": 10,
   "metadata": {},
   "outputs": [
    {
     "name": "stderr",
     "output_type": "stream",
     "text": [
      "/opt/homebrew/lib/python3.11/site-packages/PIL/Image.py:992: UserWarning: Palette images with Transparency expressed in bytes should be converted to RGBA images\n",
      "  warnings.warn(\n"
     ]
    }
   ],
   "source": [
    "N_values = [100,200,400,800,1600,3200,6400,12800]\n",
    "k = 8   # fijo\n",
    "image_path = \"test/teofilo.png\"\n",
    "query_image = face_recognition.load_image_file(image_path) \n",
    "faces_encoding = face_recognition.face_encodings(query_image)"
   ]
  },
  {
   "cell_type": "code",
   "execution_count": 8,
   "metadata": {},
   "outputs": [
    {
     "name": "stdout",
     "output_type": "stream",
     "text": [
      "KNN-Rtree TEST\n",
      "N = 100\n",
      "['/Users/ValDLaw/Documents/GitHub/2023-1/BDD2/Proyecto3/Proyecto3BDD2/backend/../images/Takuma_Sato/Takuma_Sato_0001.jpg', '/Users/ValDLaw/Documents/GitHub/2023-1/BDD2/Proyecto3/Proyecto3BDD2/backend/../images/Gro_Harlem_Brundtland/Gro_Harlem_Brundtland_0001.jpg', '/Users/ValDLaw/Documents/GitHub/2023-1/BDD2/Proyecto3/Proyecto3BDD2/backend/../images/Anthony_Pico/Anthony_Pico_0001.jpg', '/Users/ValDLaw/Documents/GitHub/2023-1/BDD2/Proyecto3/Proyecto3BDD2/backend/../images/Xiang_Huaicheng/Xiang_Huaicheng_0001.jpg', '/Users/ValDLaw/Documents/GitHub/2023-1/BDD2/Proyecto3/Proyecto3BDD2/backend/../images/German_Khan/German_Khan_0001.jpg', '/Users/ValDLaw/Documents/GitHub/2023-1/BDD2/Proyecto3/Proyecto3BDD2/backend/../images/Wang_Hailan/Wang_Hailan_0001.jpg', '/Users/ValDLaw/Documents/GitHub/2023-1/BDD2/Proyecto3/Proyecto3BDD2/backend/../images/Tony_Curtis/Tony_Curtis_0001.jpg', '/Users/ValDLaw/Documents/GitHub/2023-1/BDD2/Proyecto3/Proyecto3BDD2/backend/../images/Shinya_Taniguchi/Shinya_Taniguchi_0001.jpg']\n",
      "0.04796600341796875\n",
      "N = 200\n",
      "['/Users/ValDLaw/Documents/GitHub/2023-1/BDD2/Proyecto3/Proyecto3BDD2/backend/../images/Jeong_Se-hyun/Jeong_Se-hyun_0004.jpg', '/Users/ValDLaw/Documents/GitHub/2023-1/BDD2/Proyecto3/Proyecto3BDD2/backend/../images/Ziwang_Xu/Ziwang_Xu_0001.jpg', '/Users/ValDLaw/Documents/GitHub/2023-1/BDD2/Proyecto3/Proyecto3BDD2/backend/../images/Takuma_Sato/Takuma_Sato_0001.jpg', '/Users/ValDLaw/Documents/GitHub/2023-1/BDD2/Proyecto3/Proyecto3BDD2/backend/../images/Gro_Harlem_Brundtland/Gro_Harlem_Brundtland_0001.jpg', '/Users/ValDLaw/Documents/GitHub/2023-1/BDD2/Proyecto3/Proyecto3BDD2/backend/../images/Jeong_Se-hyun/Jeong_Se-hyun_0001.jpg', '/Users/ValDLaw/Documents/GitHub/2023-1/BDD2/Proyecto3/Proyecto3BDD2/backend/../images/Jeong_Se-hyun/Jeong_Se-hyun_0002.jpg', '/Users/ValDLaw/Documents/GitHub/2023-1/BDD2/Proyecto3/Proyecto3BDD2/backend/../images/Wilbert_Elki_Meza_Majino/Wilbert_Elki_Meza_Majino_0001.jpg', '/Users/ValDLaw/Documents/GitHub/2023-1/BDD2/Proyecto3/Proyecto3BDD2/backend/../images/Jeong_Se-hyun/Jeong_Se-hyun_0003.jpg']\n",
      "0.07572078704833984\n",
      "N = 400\n",
      "['/Users/ValDLaw/Documents/GitHub/2023-1/BDD2/Proyecto3/Proyecto3BDD2/backend/../images/Jeong_Se-hyun/Jeong_Se-hyun_0004.jpg', '/Users/ValDLaw/Documents/GitHub/2023-1/BDD2/Proyecto3/Proyecto3BDD2/backend/../images/Ziwang_Xu/Ziwang_Xu_0001.jpg', '/Users/ValDLaw/Documents/GitHub/2023-1/BDD2/Proyecto3/Proyecto3BDD2/backend/../images/Takuma_Sato/Takuma_Sato_0001.jpg', '/Users/ValDLaw/Documents/GitHub/2023-1/BDD2/Proyecto3/Proyecto3BDD2/backend/../images/Gro_Harlem_Brundtland/Gro_Harlem_Brundtland_0001.jpg', '/Users/ValDLaw/Documents/GitHub/2023-1/BDD2/Proyecto3/Proyecto3BDD2/backend/../images/Jeong_Se-hyun/Jeong_Se-hyun_0001.jpg', '/Users/ValDLaw/Documents/GitHub/2023-1/BDD2/Proyecto3/Proyecto3BDD2/backend/../images/Jeong_Se-hyun/Jeong_Se-hyun_0002.jpg', '/Users/ValDLaw/Documents/GitHub/2023-1/BDD2/Proyecto3/Proyecto3BDD2/backend/../images/Win_Aung/Win_Aung_0001.jpg', '/Users/ValDLaw/Documents/GitHub/2023-1/BDD2/Proyecto3/Proyecto3BDD2/backend/../images/Wilbert_Elki_Meza_Majino/Wilbert_Elki_Meza_Majino_0001.jpg']\n",
      "0.15735769271850586\n",
      "N = 800\n",
      "['/Users/ValDLaw/Documents/GitHub/2023-1/BDD2/Proyecto3/Proyecto3BDD2/backend/../images/Kurt_Suzuki/Kurt_Suzuki_0001.jpg', '/Users/ValDLaw/Documents/GitHub/2023-1/BDD2/Proyecto3/Proyecto3BDD2/backend/../images/Jeong_Se-hyun/Jeong_Se-hyun_0004.jpg', '/Users/ValDLaw/Documents/GitHub/2023-1/BDD2/Proyecto3/Proyecto3BDD2/backend/../images/Hamzah_Haz/Hamzah_Haz_0001.jpg', '/Users/ValDLaw/Documents/GitHub/2023-1/BDD2/Proyecto3/Proyecto3BDD2/backend/../images/Ziwang_Xu/Ziwang_Xu_0001.jpg', '/Users/ValDLaw/Documents/GitHub/2023-1/BDD2/Proyecto3/Proyecto3BDD2/backend/../images/Takuma_Sato/Takuma_Sato_0001.jpg', '/Users/ValDLaw/Documents/GitHub/2023-1/BDD2/Proyecto3/Proyecto3BDD2/backend/../images/Se_Hyuk_Joo/Se_Hyuk_Joo_0001.jpg', '/Users/ValDLaw/Documents/GitHub/2023-1/BDD2/Proyecto3/Proyecto3BDD2/backend/../images/Miguel_Estrada/Miguel_Estrada_0001.jpg', '/Users/ValDLaw/Documents/GitHub/2023-1/BDD2/Proyecto3/Proyecto3BDD2/backend/../images/Naoto_Kan/Naoto_Kan_0004.jpg']\n",
      "0.39400792121887207\n",
      "N = 1600\n",
      "['/Users/ValDLaw/Documents/GitHub/2023-1/BDD2/Proyecto3/Proyecto3BDD2/backend/../images/Lin_Yung_Hsi/Lin_Yung_Hsi_0001.jpg', '/Users/ValDLaw/Documents/GitHub/2023-1/BDD2/Proyecto3/Proyecto3BDD2/backend/../images/Kurt_Suzuki/Kurt_Suzuki_0001.jpg', '/Users/ValDLaw/Documents/GitHub/2023-1/BDD2/Proyecto3/Proyecto3BDD2/backend/../images/Jeong_Se-hyun/Jeong_Se-hyun_0004.jpg', '/Users/ValDLaw/Documents/GitHub/2023-1/BDD2/Proyecto3/Proyecto3BDD2/backend/../images/Hamzah_Haz/Hamzah_Haz_0001.jpg', '/Users/ValDLaw/Documents/GitHub/2023-1/BDD2/Proyecto3/Proyecto3BDD2/backend/../images/Ziwang_Xu/Ziwang_Xu_0001.jpg', '/Users/ValDLaw/Documents/GitHub/2023-1/BDD2/Proyecto3/Proyecto3BDD2/backend/../images/Takuma_Sato/Takuma_Sato_0001.jpg', '/Users/ValDLaw/Documents/GitHub/2023-1/BDD2/Proyecto3/Proyecto3BDD2/backend/../images/Se_Hyuk_Joo/Se_Hyuk_Joo_0001.jpg', '/Users/ValDLaw/Documents/GitHub/2023-1/BDD2/Proyecto3/Proyecto3BDD2/backend/../images/Ignatius_Wang/Ignatius_Wang_0001.jpg']\n",
      "0.7934308052062988\n",
      "N = 3200\n",
      "['/Users/ValDLaw/Documents/GitHub/2023-1/BDD2/Proyecto3/Proyecto3BDD2/backend/../images/Taufik_Hidayat/Taufik_Hidayat_0003.jpg', '/Users/ValDLaw/Documents/GitHub/2023-1/BDD2/Proyecto3/Proyecto3BDD2/backend/../images/Taufik_Hidayat/Taufik_Hidayat_0002.jpg', '/Users/ValDLaw/Documents/GitHub/2023-1/BDD2/Proyecto3/Proyecto3BDD2/backend/../images/Yukiko_Okudo/Yukiko_Okudo_0001.jpg', '/Users/ValDLaw/Documents/GitHub/2023-1/BDD2/Proyecto3/Proyecto3BDD2/backend/../images/Lin_Yung_Hsi/Lin_Yung_Hsi_0001.jpg', '/Users/ValDLaw/Documents/GitHub/2023-1/BDD2/Proyecto3/Proyecto3BDD2/backend/../images/Kurt_Suzuki/Kurt_Suzuki_0001.jpg', '/Users/ValDLaw/Documents/GitHub/2023-1/BDD2/Proyecto3/Proyecto3BDD2/backend/../images/Jeong_Se-hyun/Jeong_Se-hyun_0004.jpg', '/Users/ValDLaw/Documents/GitHub/2023-1/BDD2/Proyecto3/Proyecto3BDD2/backend/../images/Taufik_Hidayat/Taufik_Hidayat_0001.jpg', '/Users/ValDLaw/Documents/GitHub/2023-1/BDD2/Proyecto3/Proyecto3BDD2/backend/../images/Hamzah_Haz/Hamzah_Haz_0001.jpg']\n",
      "1.749823808670044\n",
      "N = 6400\n",
      "['/Users/ValDLaw/Documents/GitHub/2023-1/BDD2/Proyecto3/Proyecto3BDD2/backend/../images/Paradorn_Srichaphan/Paradorn_Srichaphan_0002.jpg', '/Users/ValDLaw/Documents/GitHub/2023-1/BDD2/Proyecto3/Proyecto3BDD2/backend/../images/Taufik_Hidayat/Taufik_Hidayat_0003.jpg', '/Users/ValDLaw/Documents/GitHub/2023-1/BDD2/Proyecto3/Proyecto3BDD2/backend/../images/Guillermo_Canas/Guillermo_Canas_0002.jpg', '/Users/ValDLaw/Documents/GitHub/2023-1/BDD2/Proyecto3/Proyecto3BDD2/backend/../images/Kosuke_Kitajima/Kosuke_Kitajima_0001.jpg', '/Users/ValDLaw/Documents/GitHub/2023-1/BDD2/Proyecto3/Proyecto3BDD2/backend/../images/Lemuel_Montulo/Lemuel_Montulo_0001.jpg', '/Users/ValDLaw/Documents/GitHub/2023-1/BDD2/Proyecto3/Proyecto3BDD2/backend/../images/Taufik_Hidayat/Taufik_Hidayat_0002.jpg', '/Users/ValDLaw/Documents/GitHub/2023-1/BDD2/Proyecto3/Proyecto3BDD2/backend/../images/Michael_Chang/Michael_Chang_0005.jpg', '/Users/ValDLaw/Documents/GitHub/2023-1/BDD2/Proyecto3/Proyecto3BDD2/backend/../images/Yukiko_Okudo/Yukiko_Okudo_0001.jpg']\n",
      "3.932356834411621\n",
      "N = 12800\n",
      "['/Users/ValDLaw/Documents/GitHub/2023-1/BDD2/Proyecto3/Proyecto3BDD2/backend/../images/Paradorn_Srichaphan/Paradorn_Srichaphan_0002.jpg', '/Users/ValDLaw/Documents/GitHub/2023-1/BDD2/Proyecto3/Proyecto3BDD2/backend/../images/Taufik_Hidayat/Taufik_Hidayat_0003.jpg', '/Users/ValDLaw/Documents/GitHub/2023-1/BDD2/Proyecto3/Proyecto3BDD2/backend/../images/Guillermo_Canas/Guillermo_Canas_0002.jpg', '/Users/ValDLaw/Documents/GitHub/2023-1/BDD2/Proyecto3/Proyecto3BDD2/backend/../images/Kosuke_Kitajima/Kosuke_Kitajima_0001.jpg', '/Users/ValDLaw/Documents/GitHub/2023-1/BDD2/Proyecto3/Proyecto3BDD2/backend/../images/Nick_Rimando/Nick_Rimando_0001.jpg', '/Users/ValDLaw/Documents/GitHub/2023-1/BDD2/Proyecto3/Proyecto3BDD2/backend/../images/Lemuel_Montulo/Lemuel_Montulo_0001.jpg', '/Users/ValDLaw/Documents/GitHub/2023-1/BDD2/Proyecto3/Proyecto3BDD2/backend/../images/Laurie_Chan/Laurie_Chan_0001.jpg', '/Users/ValDLaw/Documents/GitHub/2023-1/BDD2/Proyecto3/Proyecto3BDD2/backend/../images/Zhang_Yimou/Zhang_Yimou_0001.jpg']\n",
      "8.505972146987915\n"
     ]
    }
   ],
   "source": [
    "''' Testeando KNN-RTree '''\n",
    "print(\"KNN-Rtree TEST\")\n",
    "for n in N_values:\n",
    "    print(\"N =\",n)\n",
    "    start_time = time.time()\n",
    "    print(knn_rtree(faces_encoding, k, dataset[:n]))\n",
    "    end_time = time.time()\n",
    "    tiempo_ejecucion = end_time - start_time\n",
    "    print(tiempo_ejecucion)"
   ]
  }
 ],
 "metadata": {
  "kernelspec": {
   "display_name": "Python 3",
   "language": "python",
   "name": "python3"
  },
  "language_info": {
   "codemirror_mode": {
    "name": "ipython",
    "version": 3
   },
   "file_extension": ".py",
   "mimetype": "text/x-python",
   "name": "python",
   "nbconvert_exporter": "python",
   "pygments_lexer": "ipython3",
   "version": "3.11.4"
  },
  "orig_nbformat": 4
 },
 "nbformat": 4,
 "nbformat_minor": 2
}
